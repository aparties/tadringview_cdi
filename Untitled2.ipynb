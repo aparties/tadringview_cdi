{
 "cells": [
  {
   "cell_type": "code",
   "execution_count": 2145,
   "metadata": {},
   "outputs": [],
   "source": [
    "import pandas as pd\n",
    "import numpy as np\n",
    "import matplotlib.pyplot as plt\n",
    "import scipy\n",
    "import seaborn as sns\n",
    "from datetime import timedelta, date\n",
    "import datetime\n",
    "from itertools import *"
   ]
  },
  {
   "cell_type": "code",
   "execution_count": 2247,
   "metadata": {},
   "outputs": [],
   "source": [
    "df = pd.read_csv('SPY-09-23', sep='\\s+', header=None, skiprows=0)"
   ]
  },
  {
   "cell_type": "code",
   "execution_count": 2248,
   "metadata": {},
   "outputs": [],
   "source": [
    "df.columns = ['1stCol','2ndCol','3rdCol','4thCol','5thCol','6thCol']"
   ]
  },
  {
   "cell_type": "code",
   "execution_count": 2249,
   "metadata": {},
   "outputs": [],
   "source": [
    "spot_price = df['6thCol'][0].split(',')[1]\n",
    "spot_price = float(spot_price)"
   ]
  },
  {
   "cell_type": "code",
   "execution_count": 2250,
   "metadata": {},
   "outputs": [],
   "source": [
    "df = df.iloc[3:]"
   ]
  },
  {
   "cell_type": "code",
   "execution_count": 2251,
   "metadata": {},
   "outputs": [],
   "source": [
    "new = df[\"1stCol\"].str.split(\",\", n = 21, expand = True) \n",
    "new.columns = ['ExpirationDate','Calls','CallLastSale','CallNet','CallBid','CallAsk','CallVol','CallIV','CallDelta','CallGamma','CallOpenInt','CallStrike','Puts','PutLastSale','PutNet','PutBid','PutAsk','PutVol','PutIV','PutDelta','PutGamma','PutOpenInt']"
   ]
  },
  {
   "cell_type": "code",
   "execution_count": 2252,
   "metadata": {},
   "outputs": [],
   "source": [
    "callStrike = [x[-6:-3] for x in new.Calls]\n",
    "new['StrikePrice'] = callStrike"
   ]
  },
  {
   "cell_type": "code",
   "execution_count": 2253,
   "metadata": {},
   "outputs": [],
   "source": [
    "new['CallGamma'] = new['CallGamma'].astype(float)\n",
    "new['CallOpenInt'] = new['CallOpenInt'].astype(float)\n",
    "new['CallGEX'] = new['CallGamma'] * new['CallOpenInt'] * 100 * spot_price\n",
    "new['CallGEXNotional'] = new.CallGEX * (spot_price * .01)\n",
    "new['CallIV'] = new['CallIV'].astype(float)\n",
    "new['PutIV'] = new['PutIV'].astype(float)"
   ]
  },
  {
   "cell_type": "code",
   "execution_count": 2254,
   "metadata": {},
   "outputs": [],
   "source": [
    "new['PutGamma'] = new['PutGamma'].astype(float)\n",
    "new['PutOpenInt'] = new['PutOpenInt'].astype(float)\n",
    "new['PutGEX'] = new['PutGamma'] * new['PutOpenInt'] * 100 * spot_price * -1\n",
    "new['PutGEXNotional'] = new.PutGEX * (spot_price * .01)"
   ]
  },
  {
   "cell_type": "code",
   "execution_count": 2255,
   "metadata": {},
   "outputs": [],
   "source": [
    "#EndDate = new.iloc[0]['ExpirationDate']+ timedelta(days=94)\n",
    "EndDate = date.today()+ timedelta(days=94)\n",
    "new['ExpirationDate']= pd.to_datetime(new['ExpirationDate'])\n",
    "df = [x for x in new['ExpirationDate'] if x <= EndDate]\n",
    "new['ExpirationDate'] = pd.Series(df)\n",
    "new = new.fillna(0)\n",
    "new = new[(new['ExpirationDate'] != 0.0)]"
   ]
  },
  {
   "cell_type": "code",
   "execution_count": 2256,
   "metadata": {},
   "outputs": [
    {
     "data": {
      "text/html": [
       "<div>\n",
       "<style scoped>\n",
       "    .dataframe tbody tr th:only-of-type {\n",
       "        vertical-align: middle;\n",
       "    }\n",
       "\n",
       "    .dataframe tbody tr th {\n",
       "        vertical-align: top;\n",
       "    }\n",
       "\n",
       "    .dataframe thead th {\n",
       "        text-align: right;\n",
       "    }\n",
       "</style>\n",
       "<table border=\"1\" class=\"dataframe\">\n",
       "  <thead>\n",
       "    <tr style=\"text-align: right;\">\n",
       "      <th></th>\n",
       "      <th>ExpirationDate</th>\n",
       "      <th>Calls</th>\n",
       "      <th>CallLastSale</th>\n",
       "      <th>CallNet</th>\n",
       "      <th>CallBid</th>\n",
       "      <th>CallAsk</th>\n",
       "      <th>CallVol</th>\n",
       "      <th>CallIV</th>\n",
       "      <th>CallDelta</th>\n",
       "      <th>CallGamma</th>\n",
       "      <th>...</th>\n",
       "      <th>PutGamma</th>\n",
       "      <th>PutOpenInt</th>\n",
       "      <th>StrikePrice</th>\n",
       "      <th>CallGEX</th>\n",
       "      <th>CallGEXNotional</th>\n",
       "      <th>PutGEX</th>\n",
       "      <th>PutGEXNotional</th>\n",
       "      <th>TotalGamma</th>\n",
       "      <th>TotalGammaNotional</th>\n",
       "      <th>StrikeAndGamma</th>\n",
       "    </tr>\n",
       "  </thead>\n",
       "  <tbody>\n",
       "    <tr>\n",
       "      <th>3</th>\n",
       "      <td>2020-07-02 00:00:00</td>\n",
       "      <td>SPY200702C00150000</td>\n",
       "      <td>163.65</td>\n",
       "      <td>2.125</td>\n",
       "      <td>162.54</td>\n",
       "      <td>163.29</td>\n",
       "      <td>3</td>\n",
       "      <td>0.0200</td>\n",
       "      <td>1</td>\n",
       "      <td>0.0001</td>\n",
       "      <td>...</td>\n",
       "      <td>0.0000</td>\n",
       "      <td>620.0</td>\n",
       "      <td>150</td>\n",
       "      <td>0.0000</td>\n",
       "      <td>0.000000</td>\n",
       "      <td>-0.0000</td>\n",
       "      <td>-0.000000</td>\n",
       "      <td>0.0000</td>\n",
       "      <td>0.000000</td>\n",
       "      <td>(150, 0.0)</td>\n",
       "    </tr>\n",
       "    <tr>\n",
       "      <th>4</th>\n",
       "      <td>2020-07-02 00:00:00</td>\n",
       "      <td>SPY200702C00155000</td>\n",
       "      <td>0</td>\n",
       "      <td>0</td>\n",
       "      <td>157.54</td>\n",
       "      <td>158.29</td>\n",
       "      <td>0</td>\n",
       "      <td>0.0200</td>\n",
       "      <td>1</td>\n",
       "      <td>0.0000</td>\n",
       "      <td>...</td>\n",
       "      <td>0.0000</td>\n",
       "      <td>271.0</td>\n",
       "      <td>155</td>\n",
       "      <td>0.0000</td>\n",
       "      <td>0.000000</td>\n",
       "      <td>-0.0000</td>\n",
       "      <td>-0.000000</td>\n",
       "      <td>0.0000</td>\n",
       "      <td>0.000000</td>\n",
       "      <td>(155, 0.0)</td>\n",
       "    </tr>\n",
       "    <tr>\n",
       "      <th>5</th>\n",
       "      <td>2020-07-02 00:00:00</td>\n",
       "      <td>SPY200702C00160000</td>\n",
       "      <td>152.94</td>\n",
       "      <td>1.415</td>\n",
       "      <td>152.54</td>\n",
       "      <td>153.29</td>\n",
       "      <td>2</td>\n",
       "      <td>0.0200</td>\n",
       "      <td>1</td>\n",
       "      <td>0.0000</td>\n",
       "      <td>...</td>\n",
       "      <td>0.0000</td>\n",
       "      <td>3825.0</td>\n",
       "      <td>160</td>\n",
       "      <td>0.0000</td>\n",
       "      <td>0.000000</td>\n",
       "      <td>-0.0000</td>\n",
       "      <td>-0.000000</td>\n",
       "      <td>0.0000</td>\n",
       "      <td>0.000000</td>\n",
       "      <td>(160, 0.0)</td>\n",
       "    </tr>\n",
       "    <tr>\n",
       "      <th>6</th>\n",
       "      <td>2020-07-02 00:00:00</td>\n",
       "      <td>SPY200702C00165000</td>\n",
       "      <td>0</td>\n",
       "      <td>0</td>\n",
       "      <td>147.54</td>\n",
       "      <td>148.29</td>\n",
       "      <td>0</td>\n",
       "      <td>0.0200</td>\n",
       "      <td>1</td>\n",
       "      <td>0.0000</td>\n",
       "      <td>...</td>\n",
       "      <td>0.0000</td>\n",
       "      <td>1628.0</td>\n",
       "      <td>165</td>\n",
       "      <td>0.0000</td>\n",
       "      <td>0.000000</td>\n",
       "      <td>-0.0000</td>\n",
       "      <td>-0.000000</td>\n",
       "      <td>0.0000</td>\n",
       "      <td>0.000000</td>\n",
       "      <td>(165, 0.0)</td>\n",
       "    </tr>\n",
       "    <tr>\n",
       "      <th>7</th>\n",
       "      <td>2020-07-02 00:00:00</td>\n",
       "      <td>SPY200702C00170000</td>\n",
       "      <td>140.63</td>\n",
       "      <td>0</td>\n",
       "      <td>142.54</td>\n",
       "      <td>143.29</td>\n",
       "      <td>0</td>\n",
       "      <td>0.0200</td>\n",
       "      <td>1</td>\n",
       "      <td>0.0000</td>\n",
       "      <td>...</td>\n",
       "      <td>0.0000</td>\n",
       "      <td>6159.0</td>\n",
       "      <td>170</td>\n",
       "      <td>0.0000</td>\n",
       "      <td>0.000000</td>\n",
       "      <td>-0.0000</td>\n",
       "      <td>-0.000000</td>\n",
       "      <td>0.0000</td>\n",
       "      <td>0.000000</td>\n",
       "      <td>(170, 0.0)</td>\n",
       "    </tr>\n",
       "    <tr>\n",
       "      <th>...</th>\n",
       "      <td>...</td>\n",
       "      <td>...</td>\n",
       "      <td>...</td>\n",
       "      <td>...</td>\n",
       "      <td>...</td>\n",
       "      <td>...</td>\n",
       "      <td>...</td>\n",
       "      <td>...</td>\n",
       "      <td>...</td>\n",
       "      <td>...</td>\n",
       "      <td>...</td>\n",
       "      <td>...</td>\n",
       "      <td>...</td>\n",
       "      <td>...</td>\n",
       "      <td>...</td>\n",
       "      <td>...</td>\n",
       "      <td>...</td>\n",
       "      <td>...</td>\n",
       "      <td>...</td>\n",
       "      <td>...</td>\n",
       "      <td>...</td>\n",
       "    </tr>\n",
       "    <tr>\n",
       "      <th>2416</th>\n",
       "      <td>2020-09-30 00:00:00</td>\n",
       "      <td>SPY200930C00370000</td>\n",
       "      <td>0.44</td>\n",
       "      <td>-0.02</td>\n",
       "      <td>0.43</td>\n",
       "      <td>0.44</td>\n",
       "      <td>8</td>\n",
       "      <td>0.1895</td>\n",
       "      <td>0.0381</td>\n",
       "      <td>0.0028</td>\n",
       "      <td>...</td>\n",
       "      <td>0.0036</td>\n",
       "      <td>4.0</td>\n",
       "      <td>370</td>\n",
       "      <td>36450.1368</td>\n",
       "      <td>113790.037062</td>\n",
       "      <td>-449.5392</td>\n",
       "      <td>-1403.371475</td>\n",
       "      <td>36000.5976</td>\n",
       "      <td>112386.665588</td>\n",
       "      <td>(370, 112386.66558768)</td>\n",
       "    </tr>\n",
       "    <tr>\n",
       "      <th>2417</th>\n",
       "      <td>2020-09-30 00:00:00</td>\n",
       "      <td>SPY200930C00371000</td>\n",
       "      <td>0.53</td>\n",
       "      <td>0.095</td>\n",
       "      <td>0.41</td>\n",
       "      <td>0.44</td>\n",
       "      <td>1</td>\n",
       "      <td>0.1912</td>\n",
       "      <td>0.0372</td>\n",
       "      <td>0.0027</td>\n",
       "      <td>...</td>\n",
       "      <td>0.0035</td>\n",
       "      <td>11.0</td>\n",
       "      <td>371</td>\n",
       "      <td>19133.5122</td>\n",
       "      <td>59730.998386</td>\n",
       "      <td>-1201.8930</td>\n",
       "      <td>-3752.069567</td>\n",
       "      <td>17931.6192</td>\n",
       "      <td>55978.928819</td>\n",
       "      <td>(371, 55978.92881856001)</td>\n",
       "    </tr>\n",
       "    <tr>\n",
       "      <th>2418</th>\n",
       "      <td>2020-09-30 00:00:00</td>\n",
       "      <td>SPY200930C00375000</td>\n",
       "      <td>0.36</td>\n",
       "      <td>0</td>\n",
       "      <td>0.34</td>\n",
       "      <td>0.36</td>\n",
       "      <td>0</td>\n",
       "      <td>0.1942</td>\n",
       "      <td>0.0309</td>\n",
       "      <td>0.0023</td>\n",
       "      <td>...</td>\n",
       "      <td>0.0032</td>\n",
       "      <td>8.0</td>\n",
       "      <td>375</td>\n",
       "      <td>41214.0036</td>\n",
       "      <td>128661.876438</td>\n",
       "      <td>-799.1808</td>\n",
       "      <td>-2494.882621</td>\n",
       "      <td>40414.8228</td>\n",
       "      <td>126166.993817</td>\n",
       "      <td>(375, 126166.99381704003)</td>\n",
       "    </tr>\n",
       "    <tr>\n",
       "      <th>2419</th>\n",
       "      <td>2020-09-30 00:00:00</td>\n",
       "      <td>SPY200930C00380000</td>\n",
       "      <td>0.29</td>\n",
       "      <td>0.005</td>\n",
       "      <td>0.27</td>\n",
       "      <td>0.28</td>\n",
       "      <td>153</td>\n",
       "      <td>0.1978</td>\n",
       "      <td>0.0246</td>\n",
       "      <td>0.0019</td>\n",
       "      <td>...</td>\n",
       "      <td>0.0028</td>\n",
       "      <td>4.0</td>\n",
       "      <td>380</td>\n",
       "      <td>84226.1640</td>\n",
       "      <td>262937.238775</td>\n",
       "      <td>-349.6416</td>\n",
       "      <td>-1091.511147</td>\n",
       "      <td>83876.5224</td>\n",
       "      <td>261845.727628</td>\n",
       "      <td>(380, 261845.72762832005)</td>\n",
       "    </tr>\n",
       "    <tr>\n",
       "      <th>2420</th>\n",
       "      <td>2020-09-30 00:00:00</td>\n",
       "      <td>SPY200930C00385000</td>\n",
       "      <td>0.22</td>\n",
       "      <td>-0.005</td>\n",
       "      <td>0.21</td>\n",
       "      <td>0.22</td>\n",
       "      <td>1104</td>\n",
       "      <td>0.2011</td>\n",
       "      <td>0.0195</td>\n",
       "      <td>0.0015</td>\n",
       "      <td>...</td>\n",
       "      <td>0.0025</td>\n",
       "      <td>0.0</td>\n",
       "      <td>385</td>\n",
       "      <td>59704.4250</td>\n",
       "      <td>186385.273965</td>\n",
       "      <td>-0.0000</td>\n",
       "      <td>-0.000000</td>\n",
       "      <td>59704.4250</td>\n",
       "      <td>186385.273965</td>\n",
       "      <td>(385, 186385.27396500003)</td>\n",
       "    </tr>\n",
       "  </tbody>\n",
       "</table>\n",
       "<p>2418 rows × 30 columns</p>\n",
       "</div>"
      ],
      "text/plain": [
 "           ExpirationDate               Calls CallLastSale CallNet CallBid  \\\n",
Fri Sep 22 2023,SPXW230922C04310000,9.4,-25.7,6.9,9.7,1822,0,0,0,425,4310.00,SPXW230922P04310000,0.05,-6.3,0,0.05,55832,0,0,0,4566
Fri Sep 22 2023,SPXW230922C04315000,4.2,-27.1,3,4.8,3598,0,0,0,79,4315.00,SPXW230922P04315000,0.05,-7.45,0,0.05,64436,0,0,0,7816
Fri Sep 22 2023,SPXW230922C04320000,0.6,-27,0.35,1.3,13908,0,0,0,411,4320.00,SPXW230922P04320000,0.2,-8.6,0.3,1.5,88698,0,0,0,4055
Fri Sep 22 2023,SPXW230922C04325000,0.05,-24.4,0,0.05,21139,0,0,0,277,4325.00,SPXW230922P04325000,4.4,-5.95,3.6,7,78688,0,0,0,3422
Fri Sep 22 2023,SPXW230922C04330000,0.05,-21.1,0,0.05,31588,0,0,0,686,4330.00,SPXW230922P04330000,10.3,-1.65,10.4,11.9,82980,0,0,0,2165
Fri Sep 22 2023,SPXW230922C04335000,0.05,-18.05,0,0.05,48146,0,0,0,803,4335.00,SPXW230922P04335000,15.2,1.25,15.5,17,71261,0,0,0,2312
Mon Sep 25 2023,SPXW230925C04310000,25.23,-16.42,24.4,25.3,450,0.1115,0.6124,0.0091,82,4310.00,SPXW230925P04310000,10.5,-1.4,10.4,10.8,5199,0.106,-0.3873,0.0091,1208
Mon Sep 25 2023,SPXW230925C04315000,21.6,-15.9,21.3,21.7,739,0.1071,0.5676,0.0095,6,4315.00,SPXW230925P04315000,11.7,-0.4,12,12.4,4966,0.1037,-0.432,0.0095,1525
Mon Sep 25 2023,SPXW230925C04320000,18.7,-15.6,18.2,18.5,1999,0.1048,0.5202,0.0098,89,4320.00,SPXW230925P04320000,13.77,0.45,13.9,14.2,7543,0.1018,-0.4795,0.0098,691
Mon Sep 25 2023,SPXW230925C04325000,16.05,-16.35,15.3,15.6,2732,0.1029,0.4706,0.01,91,4325.00,SPXW230925P04325000,15.9,0.75,16,16.4,7782,0.0996,-0.5291,0.01,3347
Mon Sep 25 2023,SPXW230925C04330000,13.08,-14.82,12.7,13,3447,0.1014,0.4197,0.01,149,4330.00,SPXW230925P04330000,18.5,0.55,18.4,18.7,5999,0.0984,-0.58,0.01,1647
Mon Sep 25 2023,SPXW230925C04335000,11,-13.6,10.4,10.7,3068,0.0998,0.3688,0.0098,86,4335.00,SPXW230925P04335000,20.49,1.2,20.7,21.5,8717,0.0953,-0.6309,0.0098,4198
Tue Sep 26 2023,SPXW230926C04310000,31.24,-14.51,31.1,31.6,96,0.1302,0.5854,0.0067,28,4310.00,SPXW230926P04310000,17.58,1.53,16.4,16.8,488,0.1276,-0.4143,0.0067,320
Tue Sep 26 2023,SPXW230926C04315000,28.6,-13.85,27.9,28.3,183,0.1286,0.5525,0.0069,10,4315.00,SPXW230926P04315000,19.42,1.97,18.1,18.5,2191,0.1261,-0.4472,0.0069,270
Tue Sep 26 2023,SPXW230926C04320000,24.94,-13.86,24.8,25.2,156,0.1269,0.5183,0.007,13,4320.00,SPXW230926P04320000,20.45,1.4,20,20.5,1030,0.1242,-0.4814,0.007,696
Tue Sep 26 2023,SPXW230926C04325000,22.28,-13.7,21.9,22.2,1314,0.1251,0.483,0.0071,47,4325.00,SPXW230926P04325000,22.37,2.01,22.1,22.5,2648,0.1215,-0.5167,0.0071,2738
Tue Sep 26 2023,SPXW230926C04330000,18.7,-13.7,19.1,19.6,307,0.1231,0.4468,0.0072,86,4330.00,SPXW230926P04330000,25.7,2.8,24.4,24.8,1075,0.1196,-0.5529,0.0072,1874
Tue Sep 26 2023,SPXW230926C04335000,16.81,-12.59,16.6,17.1,492,0.1213,0.4101,0.0072,85,4335.00,SPXW230926P04335000,27.95,3,26.8,29.1,454,0.1179,-0.5896,0.0072,304
Wed Sep 27 2023,SPXW230927C04310000,36.6,-13.9,36.5,37.1,77,0.1433,0.5736,0.0055,3,4310.00,SPXW230927P04310000,21.73,2.09,21.2,21.8,506,0.1405,-0.426,0.0055,640
Wed Sep 27 2023,SPXW230927C04315000,32.92,-14.08,33.3,33.9,133,0.1414,0.5467,0.0056,2,4315.00,SPXW230927P04315000,23.3,1.9,23.1,23.5,1274,0.1386,-0.453,0.0056,390
Wed Sep 27 2023,SPXW230927C04320000,30.3,-13.2,30.2,30.8,177,0.1395,0.5188,0.0057,4,4320.00,SPXW230927P04320000,25.57,2.57,24.9,25.3,686,0.1368,-0.4809,0.0057,996
Wed Sep 27 2023,SPXW230927C04325000,27.7,-12.5,27.3,27.8,261,0.1375,0.4901,0.0058,64,4325.00,SPXW230927P04325000,26.6,1.55,26.9,27.5,645,0.1348,-0.5096,0.0058,1335
Wed Sep 27 2023,SPXW230927C04330000,23.5,-13.55,24.5,24.9,192,0.1357,0.4607,0.0058,37,4330.00,SPXW230927P04330000,30.4,3,29.1,29.7,356,0.1333,-0.539,0.0058,437
Wed Sep 27 2023,SPXW230927C04335000,21.8,-12.25,21.9,22.4,201,0.1342,0.4308,0.0059,105,4335.00,SPXW230927P04335000,32.3,3.85,31.5,32.1,375,0.1315,-0.5689,0.0059,179
Thu Sep 28 2023,SPXW230928C04310000,40.61,-14.54,41.7,42.6,58,0.1516,0.5708,0.0047,38,4310.00,SPXW230928P04310000,26.03,2.73,25.1,25.6,166,0.1489,-0.4292,0.0047,908
Thu Sep 28 2023,SPXW230928C04315000,37.99,-13.71,38.5,39.3,54,0.1496,0.5476,0.0048,3,4315.00,SPXW230928P04315000,29.16,4.36,26.8,27.6,189,0.1469,-0.4523,0.0048,64
Thu Sep 28 2023,SPXW230928C04320000,33.68,-14.77,35.4,36.3,92,0.148,0.5238,0.0049,3,4320.00,SPXW230928P04320000,29.87,3.27,28.7,29.4,258,0.1453,-0.4761,0.0049,186
Thu Sep 28 2023,SPXW230928C04325000,30.47,-14.63,32.5,33,54,0.146,0.4994,0.005,29,4325.00,SPXW230928P04325000,31.87,3.32,30.7,31.6,213,0.1434,-0.5006,0.005,302
Thu Sep 28 2023,SPXW230928C04330000,29.3,-12.65,29.6,30.1,57,0.1442,0.4744,0.005,22,4330.00,SPXW230928P04330000,36.2,5.8,32.9,34.1,142,0.1418,-0.5256,0.005,353
Thu Sep 28 2023,SPXW230928C04335000,26.54,-12.41,26.9,27.4,132,0.1424,0.4489,0.005,12,4335.00,SPXW230928P04335000,36.8,4.95,35.1,36.7,116,0.1396,-0.5511,0.005,104
Fri Sep 29 2023,SPXW230929C04310000,46.3,-13.65,46.8,47.5,309,0.1606,0.5653,0.0041,131,4310.00,SPXW230929P04310000,30.4,3,29.7,30.3,762,0.1585,-0.4346,0.0041,949
Fri Sep 29 2023,SPXW230929C04315000,43.12,-12.88,43.6,44.4,357,0.1587,0.5451,0.0042,51,4315.00,SPXW230929P04315000,32,3.4,31.4,32.1,11410,0.1566,-0.4548,0.0042,11009
Fri Sep 29 2023,SPXW230929C04320000,40.87,-11.73,40.5,41.2,489,0.1567,0.5244,0.0042,115,4320.00,SPXW230929P04320000,33.9,3.55,33.3,34.1,901,0.1546,-0.4756,0.0042,1755
Fri Sep 29 2023,SPXW230929C04325000,38.31,-13.76,37.5,38.2,1062,0.1551,0.5031,0.0043,497,4325.00,SPXW230929P04325000,35.19,3.76,35.3,35.8,7025,0.1526,-0.4969,0.0043,5838
Fri Sep 29 2023,SPXW230929C04330000,34.7,-11.7,34.6,35.2,696,0.153,0.4814,0.0044,267,4330.00,SPXW230929P04330000,38.41,4,37.4,37.8,1739,0.151,-0.5186,0.0044,3030
Fri Sep 29 2023,SPXW230929C04335000,31.5,-11.9,31.9,32.5,629,0.1514,0.4592,0.0044,824,4335.00,SPXW230929P04335000,39.77,3.92,39.6,40,1242,0.149,-0.5408,0.0044,1294
      
       "3     2020-07-02 00:00:00  SPY200702C00150000       163.65   2.125  162.54   \n",
       "4     2020-07-02 00:00:00  SPY200702C00155000            0       0  157.54   \n",
       "5     2020-07-02 00:00:00  SPY200702C00160000       152.94   1.415  152.54   \n",
       "6     2020-07-02 00:00:00  SPY200702C00165000            0       0  147.54   \n",
       "7     2020-07-02 00:00:00  SPY200702C00170000       140.63       0  142.54   \n",
       "...                   ...                 ...          ...     ...     ...   \n",
       "2416  2020-09-30 00:00:00  SPY200930C00370000         0.44   -0.02    0.43   \n",
       "2417  2020-09-30 00:00:00  SPY200930C00371000         0.53   0.095    0.41   \n",
       "2418  2020-09-30 00:00:00  SPY200930C00375000         0.36       0    0.34   \n",
       "2419  2020-09-30 00:00:00  SPY200930C00380000         0.29   0.005    0.27   \n",
       "2420  2020-09-30 00:00:00  SPY200930C00385000         0.22  -0.005    0.21   \n",
       "\n",
       "     CallAsk CallVol  CallIV CallDelta  CallGamma  ...  PutGamma PutOpenInt  \\\n",
       "3     163.29       3  0.0200         1     0.0001  ...    0.0000      620.0   \n",
       "4     158.29       0  0.0200         1     0.0000  ...    0.0000      271.0   \n",
       "5     153.29       2  0.0200         1     0.0000  ...    0.0000     3825.0   \n",
       "6     148.29       0  0.0200         1     0.0000  ...    0.0000     1628.0   \n",
       "7     143.29       0  0.0200         1     0.0000  ...    0.0000     6159.0   \n",
       "...      ...     ...     ...       ...        ...  ...       ...        ...   \n",
       "2416    0.44       8  0.1895    0.0381     0.0028  ...    0.0036        4.0   \n",
       "2417    0.44       1  0.1912    0.0372     0.0027  ...    0.0035       11.0   \n",
       "2418    0.36       0  0.1942    0.0309     0.0023  ...    0.0032        8.0   \n",
       "2419    0.28     153  0.1978    0.0246     0.0019  ...    0.0028        4.0   \n",
       "2420    0.22    1104  0.2011    0.0195     0.0015  ...    0.0025        0.0   \n",
       "\n",
       "     StrikePrice     CallGEX CallGEXNotional     PutGEX PutGEXNotional  \\\n",
       "3            150      0.0000        0.000000    -0.0000      -0.000000   \n",
       "4            155      0.0000        0.000000    -0.0000      -0.000000   \n",
       "5            160      0.0000        0.000000    -0.0000      -0.000000   \n",
       "6            165      0.0000        0.000000    -0.0000      -0.000000   \n",
       "7            170      0.0000        0.000000    -0.0000      -0.000000   \n",
       "...          ...         ...             ...        ...            ...   \n",
       "2416         370  36450.1368   113790.037062  -449.5392   -1403.371475   \n",
       "2417         371  19133.5122    59730.998386 -1201.8930   -3752.069567   \n",
       "2418         375  41214.0036   128661.876438  -799.1808   -2494.882621   \n",
       "2419         380  84226.1640   262937.238775  -349.6416   -1091.511147   \n",
       "2420         385  59704.4250   186385.273965    -0.0000      -0.000000   \n",
       "\n",
       "      TotalGamma  TotalGammaNotional             StrikeAndGamma  \n",
       "3         0.0000            0.000000                 (150, 0.0)  \n",
       "4         0.0000            0.000000                 (155, 0.0)  \n",
       "5         0.0000            0.000000                 (160, 0.0)  \n",
       "6         0.0000            0.000000                 (165, 0.0)  \n",
       "7         0.0000            0.000000                 (170, 0.0)  \n",
       "...          ...                 ...                        ...  \n",
       "2416  36000.5976       112386.665588     (370, 112386.66558768)  \n",
       "2417  17931.6192        55978.928819   (371, 55978.92881856001)  \n",
       "2418  40414.8228       126166.993817  (375, 126166.99381704003)  \n",
       "2419  83876.5224       261845.727628  (380, 261845.72762832005)  \n",
       "2420  59704.4250       186385.273965  (385, 186385.27396500003)  \n",
       "\n",
       "[2418 rows x 30 columns]"
      ]
     },
     "execution_count": 2256,
     "metadata": {},
     "output_type": "execute_result"
    }
   ],
   "source": [
    "flag = True\n",
    "new['TotalGamma'] = new.CallGEX + new.PutGEX\n",
    "new['TotalGammaNotional'] = new.CallGEXNotional + new.PutGEXNotional\n",
    "count = 0\n",
    "strikeWithGamma = []\n",
    "#Make a list of tuples for strike price and gamma\n",
    "for a, b in zip(new.StrikePrice, new.TotalGammaNotional):\n",
    "    strikesPlusGamma = (a,b)\n",
    "    strikeWithGamma.append(strikesPlusGamma)\n",
    "new['StrikeAndGamma'] = strikeWithGamma\n",
    "new"
   ]
  },
  {
   "cell_type": "code",
   "execution_count": 2257,
   "metadata": {},
   "outputs": [],
   "source": [
    "new = new[(new['TotalGamma'] != 0.0)]"
   ]
  },
  {
   "cell_type": "code",
   "execution_count": 2258,
   "metadata": {},
   "outputs": [],
   "source": [
    "#fig, ax = plt.subplots()\n",
    "#fig = ax.bar(new['StrikePrice'], new['PutGEX'])\n",
    "#bar1 = ax.bar(new['StrikePrice'], new['CallGEX'])\n",
    "#plt.show()\n",
    "#plt.bar(new['StrikePrice'], new['CallGEX'])\n",
    "#plt.bar(new['StrikePrice'], new['PutGEX'])\n",
    "#plt.show()"
   ]
  },
  {
   "cell_type": "code",
   "execution_count": 2240,
   "metadata": {},
   "outputs": [
    {
     "data": {
      "text/plain": [
       "<matplotlib.axes._subplots.AxesSubplot at 0x1a91006e90>"
      ]
     },
     "execution_count": 2240,
     "metadata": {},
     "output_type": "execute_result"
    },
    {
     "data": {
      "image/png": "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\n",
      "text/plain": [
       "<Figure size 432x288 with 1 Axes>"
      ]
     },
     "metadata": {},
     "output_type": "display_data"
    }
   ],
   "source": [
    "#Plot trying to replicate CDF\n",
    "\n",
    "s = pd.Series(new['TotalGamma'], name = 'TotalGamma')\n",
    "##print(s)\n",
    "# CDF\n",
    "new_df = pd.DataFrame(s)\n",
    "new_df['cdf'] = new_df.rank(method = 'average', pct = True)\n",
    "new_df['StrikePrice'] = new['StrikePrice']\n",
    "x = new_df.sort_values('TotalGamma')\n",
    "#print(x)\n",
    "#new_df.sort_values('StrikePrice').plot(x = 'StrikePrice', y = 'cdf', grid = True)\n",
    "new_df.sort_values('StrikePrice').plot(x = 'StrikePrice', y = 'TotalGamma', grid = True)\n",
    "#new_df.sort_values('TotalGamma').plot(x = 'TotalGamma', y = 'cdf', grid = True)"
   ]
  },
  {
   "cell_type": "code",
   "execution_count": 2217,
   "metadata": {},
   "outputs": [],
   "source": [
    "#Plot for regular CDF\n",
    "\n",
    "#Define your Series\n",
    "#s = pd.Series(np.random.normal(loc = 10, scale = 0.1, size = 1000), name = 'value')\n",
    "#df = pd.DataFrame(s)\n",
    "# Get to the CDF directly\n",
    "#df['cdf'] = df.rank(method = 'average', pct = True)\n",
    "#print(max(df['cdf']))\n",
    "# Sort and plot\n",
    "#x = df.sort_values('value')\n",
    "#print(x)\n",
    "#x.plot(x = 'value', y = 'cdf', grid = True)"
   ]
  },
  {
   "cell_type": "code",
   "execution_count": 2259,
   "metadata": {},
   "outputs": [],
   "source": [
    "def _zero_gex(strikes):\n",
    "    def _aux_add(a, b):\n",
    "        return (b[0], a[1] + b[1])\n",
    "\n",
    "    cumsum = list(itertools.accumulate(strikes, _aux_add))\n",
    "    if cumsum[len(strikes) // 10][1] < 0:\n",
    "        op = min\n",
    "    else:\n",
    "        op = max\n",
    "    return op(cumsum, key=lambda i: i[1])[0]"
   ]
  },
  {
   "cell_type": "code",
   "execution_count": 2260,
   "metadata": {},
   "outputs": [
    {
     "data": {
      "text/plain": [
       "'380'"
      ]
     },
     "execution_count": 2260,
     "metadata": {},
     "output_type": "execute_result"
    }
   ],
   "source": [
    "_zero_gex(new.StrikeAndGamma)"
   ]
  }
 ],
 "metadata": {
  "kernelspec": {
   "display_name": "Python 3",
   "language": "python",
   "name": "python3"
  },
  "language_info": {
   "codemirror_mode": {
    "name": "ipython",
    "version": 3
   },
   "file_extension": ".py",
   "mimetype": "text/x-python",
   "name": "python",
   "nbconvert_exporter": "python",
   "pygments_lexer": "ipython3",
   "version": "3.7.6"
  }
 },
 "nbformat": 4,
 "nbformat_minor": 4
}
